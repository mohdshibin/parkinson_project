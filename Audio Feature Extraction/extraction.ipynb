{
 "cells": [
  {
   "cell_type": "code",
   "execution_count": 1,
   "metadata": {},
   "outputs": [],
   "source": [
    "#Measure pitch of all wav files in directory\n",
    "import glob\n",
    "import numpy as np\n",
    "import pandas as pd\n",
    "import parselmouth"
   ]
  },
  {
   "cell_type": "code",
   "execution_count": 2,
   "metadata": {},
   "outputs": [],
   "source": [
    "from parselmouth.praat import call\n",
    "from sklearn.decomposition import PCA\n",
    "from sklearn.preprocessing import StandardScaler"
   ]
  },
  {
   "cell_type": "code",
   "execution_count": 3,
   "metadata": {},
   "outputs": [],
   "source": [
    "\n",
    "def measurePitch(voiceID, f0min, f0max, unit):\n",
    "    sound = parselmouth.Sound(voiceID) # read the sound\n",
    "    pitch = call(sound, \"To Pitch\", 0.0, f0min, f0max) #create a praat pitch object\n",
    "    meanF0 = call(pitch, \"Get mean\", 0, 0, unit) # get mean pitch\n",
    "    stdevF0 = call(pitch, \"Get standard deviation\", 0 ,0, unit) # get standard deviation\n",
    "    harmonicity = call(sound, \"To Harmonicity (cc)\", 0.01, 75, 0.1, 1.0)\n",
    "    hnr = call(harmonicity, \"Get mean\", 0, 0)\n",
    "    pointProcess = call(sound, \"To PointProcess (periodic, cc)\", f0min, f0max)\n",
    "    localJitter = call(pointProcess, \"Get jitter (local)\", 0, 0, 0.0001, 0.02, 1.3)\n",
    "    localabsoluteJitter = call(pointProcess, \"Get jitter (local, absolute)\", 0, 0, 0.0001, 0.02, 1.3)\n",
    "    rapJitter = call(pointProcess, \"Get jitter (rap)\", 0, 0, 0.0001, 0.02, 1.3)\n",
    "    ppq5Jitter = call(pointProcess, \"Get jitter (ppq5)\", 0, 0, 0.0001, 0.02, 1.3)\n",
    "    ddpJitter = call(pointProcess, \"Get jitter (ddp)\", 0, 0, 0.0001, 0.02, 1.3)\n",
    "    localShimmer =  call([sound, pointProcess], \"Get shimmer (local)\", 0, 0, 0.0001, 0.02, 1.3, 1.6)\n",
    "    localdbShimmer = call([sound, pointProcess], \"Get shimmer (local_dB)\", 0, 0, 0.0001, 0.02, 1.3, 1.6)\n",
    "    apq3Shimmer = call([sound, pointProcess], \"Get shimmer (apq3)\", 0, 0, 0.0001, 0.02, 1.3, 1.6)\n",
    "    aqpq5Shimmer = call([sound, pointProcess], \"Get shimmer (apq5)\", 0, 0, 0.0001, 0.02, 1.3, 1.6)\n",
    "    apq11Shimmer =  call([sound, pointProcess], \"Get shimmer (apq11)\", 0, 0, 0.0001, 0.02, 1.3, 1.6)\n",
    "    ddaShimmer = call([sound, pointProcess], \"Get shimmer (dda)\", 0, 0, 0.0001, 0.02, 1.3, 1.6)\n",
    "    \n",
    "\n",
    "    return meanF0, stdevF0, hnr, localJitter, localabsoluteJitter, rapJitter, ppq5Jitter, ddpJitter, localShimmer, localdbShimmer, apq3Shimmer, aqpq5Shimmer, apq11Shimmer, ddaShimmer"
   ]
  },
  {
   "cell_type": "code",
   "execution_count": 4,
   "metadata": {},
   "outputs": [],
   "source": [
    "def runPCA(df):\n",
    "    #Z-score the Jitter and Shimmer measurements\n",
    "    features = ['localJitter', 'localabsoluteJitter', 'rapJitter', 'ppq5Jitter', 'ddpJitter',\n",
    "                'localShimmer', 'localdbShimmer', 'apq3Shimmer', 'apq5Shimmer', 'apq11Shimmer', 'ddaShimmer']\n",
    "    # Separating out the features\n",
    "    x = df.loc[:, features].values\n",
    "    # Separating out the target\n",
    "    #y = df.loc[:,['target']].values\n",
    "    # Standardizing the features\n",
    "    x = StandardScaler().fit_transform(x)\n",
    "\n",
    "    \n",
    "    #PCA\n",
    "    pca = PCA(n_components=2)\n",
    "    principalComponents = pca.fit_transform(x)\n",
    "    principalDf = pd.DataFrame(data = principalComponents, columns = ['JitterPCA', 'ShimmerPCA'])\n",
    "    principalDf\n",
    "    return principalDf"
   ]
  },
  {
   "cell_type": "code",
   "execution_count": 5,
   "metadata": {},
   "outputs": [],
   "source": [
    "# create lists to put the results\n",
    "file_list = []\n",
    "mean_F0_list = []\n",
    "sd_F0_list = []\n",
    "hnr_list = []\n",
    "\n",
    "\n",
    "localJitter_list = []\n",
    "localabsoluteJitter_list = []\n",
    "rapJitter_list = []\n",
    "ppq5Jitter_list = []\n",
    "\n",
    "\n",
    "ddpJitter_list = []\n",
    "localShimmer_list = []\n",
    "localdbShimmer_list = []\n",
    "apq3Shimmer_list = []\n",
    "aqpq5Shimmer_list = []\n",
    "apq11Shimmer_list = []\n",
    "ddaShimmer_list = []\n",
    "\n"
   ]
  },
  {
   "cell_type": "code",
   "execution_count": 6,
   "metadata": {},
   "outputs": [],
   "source": [
    "# Go through all the wave files in the folder and measure pitch\n",
    "for wave_file in glob.glob(\"audio/*.wav\"):\n",
    "    sound = parselmouth.Sound(wave_file)\n",
    "    (meanF0, stdevF0, hnr, localJitter, localabsoluteJitter, rapJitter, ppq5Jitter, ddpJitter, localShimmer, localdbShimmer, apq3Shimmer, aqpq5Shimmer, apq11Shimmer, ddaShimmer) = measurePitch(sound, 75, 500, \"Hertz\")\n",
    "    file_list.append(wave_file) # make an ID list\n",
    "    mean_F0_list.append(meanF0) # make a mean F0 list\n",
    "    sd_F0_list.append(stdevF0) # make a sd F0 list\n",
    "    hnr_list.append(hnr)\n",
    "    localJitter_list.append(localJitter)\n",
    "    localabsoluteJitter_list.append(localabsoluteJitter)\n",
    "    rapJitter_list.append(rapJitter)\n",
    "    ppq5Jitter_list.append(ppq5Jitter)\n",
    "    ddpJitter_list.append(ddpJitter)\n",
    "    localShimmer_list.append(localShimmer)\n",
    "    localdbShimmer_list.append(localdbShimmer)\n",
    "    apq3Shimmer_list.append(apq3Shimmer)\n",
    "    aqpq5Shimmer_list.append(aqpq5Shimmer)\n",
    "    apq11Shimmer_list.append(apq11Shimmer)\n",
    "    ddaShimmer_list.append(ddaShimmer)\n",
    "\n",
    "\n",
    "    \n",
    "df = pd.DataFrame(np.column_stack([file_list, mean_F0_list, hnr_list, localJitter_list, localabsoluteJitter_list, rapJitter_list, ppq5Jitter_list, ddpJitter_list, localShimmer_list, localdbShimmer_list, apq3Shimmer_list, aqpq5Shimmer_list, apq11Shimmer_list, ddaShimmer_list]),\n",
    "                               columns=['voiceID', 'meanF0Hz', 'HNR', 'localJitter', 'localabsoluteJitter', 'rapJitter', \n",
    "                                        'ppq5Jitter', 'ddpJitter', 'localShimmer', 'localdbShimmer', 'apq3Shimmer', 'apq5Shimmer', \n",
    "                                        'apq11Shimmer', 'ddaShimmer'])  #add these lists to pandas in the right order\n",
    "pcaData = runPCA(df)\n",
    "\n",
    "df = pd.concat([df, pcaData], axis=1)\n"
   ]
  },
  {
   "cell_type": "code",
   "execution_count": 7,
   "metadata": {},
   "outputs": [
    {
     "name": "stdout",
     "output_type": "stream",
     "text": [
      "                  voiceID            meanF0Hz                 HNR  \\\n",
      "0  audio\\morph1Female.wav   201.9450715201333  26.031128910959396   \n",
      "1    audio\\morph1Male.wav  111.15389977177607   24.00527628479194   \n",
      "2  audio\\morph2Female.wav  212.09857905298142  25.166883394289275   \n",
      "3    audio\\morph2Male.wav  113.77680569854286  26.253282681105546   \n",
      "4          audio\\new1.wav  201.96096845153414  26.302196882402395   \n",
      "5          audio\\new2.wav  202.12526107999187  26.021253907992044   \n",
      "\n",
      "             localJitter     localabsoluteJitter              rapJitter  \\\n",
      "0   0.004846807759666541   2.400994705074552e-05  0.0025087786720272213   \n",
      "1  0.0019680369258500167  1.7706732886398968e-05  0.0010017621778934044   \n",
      "2  0.0031189223175170765  1.4711941338330661e-05  0.0016619598167540847   \n",
      "3  0.0014213010729582554   1.249343793469808e-05  0.0007095201587491845   \n",
      "4     0.0041489500579793  2.0565088427130832e-05  0.0022021148689055792   \n",
      "5   0.004835757896903266  2.3935283742555595e-05  0.0024819475592535605   \n",
      "\n",
      "              ppq5Jitter              ddpJitter          localShimmer  \\\n",
      "0  0.0028426664008764234   0.007526336016081664  0.022721092224691205   \n",
      "1  0.0010133799253859255   0.003005286533680213   0.02355521562933281   \n",
      "2  0.0018064149400136825   0.004985879450262254   0.02274186063234924   \n",
      "3  0.0007645157141077805  0.0021285604762475534   0.01787710274672177   \n",
      "4  0.0024958270156059934   0.006606344606716738  0.019780609571400928   \n",
      "5  0.0028663285079128624   0.007445842677760682   0.02276843644910628   \n",
      "\n",
      "        localdbShimmer           apq3Shimmer           apq5Shimmer  \\\n",
      "0  0.36600462278007695   0.01067785827297571  0.011851038540539248   \n",
      "1   0.2545799985847508  0.010315141197558095   0.01128858545427818   \n",
      "2   0.2997183985920759  0.010513830901409086  0.011225476519947503   \n",
      "3  0.18570177149979147     0.008274948828568   0.00911090055111822   \n",
      "4  0.21924124800936626  0.009339438044015835  0.010328020569633353   \n",
      "5  0.36808567052063734  0.010718802164954215    0.0118462487407967   \n",
      "\n",
      "           apq11Shimmer            ddaShimmer  JitterPCA  ShimmerPCA  \n",
      "0  0.013795520522786762   0.03203357481892713  -3.198645   -0.483590  \n",
      "1  0.013344669375701744  0.030945423592674284   0.727148    2.372708  \n",
      "2  0.013489414940305162   0.03154149270422726  -0.414073    1.316681  \n",
      "3  0.010494519667844397     0.024824846485704   5.403599   -0.485811  \n",
      "4  0.011140501987594295  0.028018314132047504   0.681273   -2.268704  \n",
      "5   0.01370109063383656   0.03215640649486264  -3.199303   -0.451283  \n"
     ]
    }
   ],
   "source": [
    "print(df)"
   ]
  },
  {
   "cell_type": "code",
   "execution_count": 8,
   "metadata": {},
   "outputs": [],
   "source": [
    "# Write out the updated dataframe\n",
    "df.to_csv(\"processed_results.csv\", index=False)"
   ]
  }
 ],
 "metadata": {
  "kernelspec": {
   "display_name": "finalproject",
   "language": "python",
   "name": "python3"
  },
  "language_info": {
   "codemirror_mode": {
    "name": "ipython",
    "version": 3
   },
   "file_extension": ".py",
   "mimetype": "text/x-python",
   "name": "python",
   "nbconvert_exporter": "python",
   "pygments_lexer": "ipython3",
   "version": "3.10.6"
  },
  "vscode": {
   "interpreter": {
    "hash": "b469f12962f871c8864e7797f9702efd3b0dd9d2b0c2724dd274b0d9c586ccf5"
   }
  }
 },
 "nbformat": 4,
 "nbformat_minor": 2
}
