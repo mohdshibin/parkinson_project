{
 "cells": [
  {
   "attachments": {},
   "cell_type": "markdown",
   "metadata": {},
   "source": [
    "open env drawingmodel"
   ]
  },
  {
   "cell_type": "code",
   "execution_count": 1,
   "metadata": {},
   "outputs": [],
   "source": [
    "# import module\n",
    "import pickle as pkl\n",
    "#import sklearn\n",
    "import numpy as np\n",
    "import pandas as pd\n",
    "#import matplotlib.pyplot as plt\n",
    "import skimage\n",
    "from skimage import feature\n",
    "import cv2"
   ]
  },
  {
   "cell_type": "code",
   "execution_count": 2,
   "metadata": {},
   "outputs": [
    {
     "name": "stderr",
     "output_type": "stream",
     "text": [
      "d:\\Academics\\Final year project\\drawing ML model\\drawingmodel\\lib\\site-packages\\sklearn\\base.py:288: UserWarning: Trying to unpickle estimator DecisionTreeClassifier from version 1.0.2 when using version 1.2.0. This might lead to breaking code or invalid results. Use at your own risk. For more info please refer to:\n",
      "https://scikit-learn.org/stable/model_persistence.html#security-maintainability-limitations\n",
      "  warnings.warn(\n",
      "d:\\Academics\\Final year project\\drawing ML model\\drawingmodel\\lib\\site-packages\\sklearn\\base.py:288: UserWarning: Trying to unpickle estimator RandomForestClassifier from version 1.0.2 when using version 1.2.0. This might lead to breaking code or invalid results. Use at your own risk. For more info please refer to:\n",
      "https://scikit-learn.org/stable/model_persistence.html#security-maintainability-limitations\n",
      "  warnings.warn(\n"
     ]
    }
   ],
   "source": [
    "# load model\n",
    "loaded_model = pkl.load(open('drawing_model.pkl', 'rb'))"
   ]
  },
  {
   "cell_type": "code",
   "execution_count": 3,
   "metadata": {},
   "outputs": [],
   "source": [
    "def quantify_image(image):\n",
    "  features = feature.hog(image,orientations=9,\n",
    "                pixels_per_cell=(10,10),cells_per_block=(2,2),transform_sqrt=True,block_norm=\"L1\")\n",
    "\n",
    "  return features"
   ]
  },
  {
   "cell_type": "code",
   "execution_count": 4,
   "metadata": {},
   "outputs": [
    {
     "name": "stdout",
     "output_type": "stream",
     "text": [
      "[0. 0. 0. ... 0. 0. 0.]\n"
     ]
    }
   ],
   "source": [
    "# path\n",
    "# import os\n",
    "# print(os.listdir())\n",
    "\n",
    "path = './data/healthy/V01HE02.png'\n",
    "\n",
    "# load file\n",
    "image = cv2.imread(path)\n",
    "\n",
    "#print(image)\n",
    "\n",
    "image = cv2.cvtColor(image , cv2.COLOR_BGR2GRAY)\n",
    "image = cv2.resize(image , (200,200))\n",
    "image =cv2.threshold(image, 0, 255,cv2.THRESH_BINARY_INV | cv2.THRESH_OTSU)[1]\n",
    "features = quantify_image(image)\n",
    "print(features)\n",
    "# input = features.reshape(-1, 1)\n",
    "# print(input)\n",
    "input = []\n",
    "input.append(features)\n",
    "input = np.array(input)"
   ]
  },
  {
   "cell_type": "code",
   "execution_count": 5,
   "metadata": {},
   "outputs": [
    {
     "name": "stdout",
     "output_type": "stream",
     "text": [
      "No Parkinson\n"
     ]
    }
   ],
   "source": [
    "result = loaded_model.predict(input)\n",
    "if(result==0):\n",
    "    print(\"No Parkinson\")\n",
    "else:\n",
    "    print(\"Parkinson\")"
   ]
  }
 ],
 "metadata": {
  "kernelspec": {
   "display_name": "drawingmodel",
   "language": "python",
   "name": "python3"
  },
  "language_info": {
   "codemirror_mode": {
    "name": "ipython",
    "version": 3
   },
   "file_extension": ".py",
   "mimetype": "text/x-python",
   "name": "python",
   "nbconvert_exporter": "python",
   "pygments_lexer": "ipython3",
   "version": "3.10.6"
  },
  "orig_nbformat": 4,
  "vscode": {
   "interpreter": {
    "hash": "63cd859dc5cc4020f32e8ee7509786db0efe4d12e068d43437d49f466728a222"
   }
  }
 },
 "nbformat": 4,
 "nbformat_minor": 2
}
